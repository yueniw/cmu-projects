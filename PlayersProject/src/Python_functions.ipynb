{
 "cells": [
  {
   "cell_type": "code",
   "execution_count": 1,
   "id": "66d1bbc9",
   "metadata": {},
   "outputs": [],
   "source": [
    "#Task 2-1 function:\n",
    "def task2_1(z):\n",
    "    import pandas as pd\n",
    "    import psycopg2\n",
    "    #tweak the database parameters to match your specific postgres database\n",
    "    conn=psycopg2.connect(host='localhost',\n",
    "                          port='5432',\n",
    "                          user='postgres',\n",
    "                          password='mysecretpassword',\n",
    "                          database='postgres',\n",
    "                          #You may add the following line if you have schemas\n",
    "                          options=\"-c search_path=nfl\"\n",
    "                         )\n",
    "    cur=conn.cursor()\n",
    "    cur.execute('SELECT short_name FROM \"FIFA\".players_20 order by ((skill_dribbling + skill_curve + skill_fk_accuracy + skill_long_passing +skill_ball_control)/5 - overall) desc;')\n",
    "    result=[]\n",
    "    for row in cur:\n",
    "        result.append(row)\n",
    "\n",
    "    #dataframe=pd.DataFrame(result[0:z], columns=['shortname'])\n",
    "    \n",
    "    conn.commit()\n",
    "    cur.close()\n",
    "    conn.close()\n",
    "    return result[0:z]"
   ]
  },
  {
   "cell_type": "code",
   "execution_count": 2,
   "id": "d61daa7c",
   "metadata": {},
   "outputs": [
    {
     "data": {
      "text/plain": [
       "[('T. Haye',), ('Àlex Corredera',)]"
      ]
     },
     "execution_count": 2,
     "metadata": {},
     "output_type": "execute_result"
    }
   ],
   "source": [
    "task2_1(2)"
   ]
  },
  {
   "cell_type": "code",
   "execution_count": 3,
   "id": "a8b322b1",
   "metadata": {},
   "outputs": [],
   "source": [
    "#Task2-2 function:\n",
    "def task2_2(z):\n",
    "    import pandas as pd\n",
    "    import psycopg2\n",
    "    #tweak the database parameters to match your specific postgres database\n",
    "    conn=psycopg2.connect(host='localhost',\n",
    "                          port='5432',\n",
    "                          user='postgres',\n",
    "                          password='mysecretpassword',\n",
    "                          database='postgres',\n",
    "                          #You may add the following line if you have schemas\n",
    "                          options=\"-c search_path=nfl\"\n",
    "                         )\n",
    "    cur=conn.cursor()\n",
    "    cur.execute('SELECT count (sofifa_id),club FROM \"FIFA\".players_20 WHERE contract_valid_until = 2021 GROUP BY club order by count(sofifa_id) DESC;')\n",
    "    result=[]\n",
    "    for row in cur:\n",
    "        result.append(row)\n",
    "        \n",
    "    #dataframe=pd.DataFrame(result[0:z], columns=['count','club'])\n",
    "    \n",
    "    conn.commit()\n",
    "    cur.close()\n",
    "    conn.close()\n",
    "    return result[0:z]"
   ]
  },
  {
   "cell_type": "code",
   "execution_count": 4,
   "id": "927d5c59",
   "metadata": {},
   "outputs": [
    {
     "data": {
      "text/plain": [
       "[(18, 'FC Ingolstadt 04'),\n",
       " (18, '1. FC Kaiserslautern'),\n",
       " (17, 'FC Girondins de Bordeaux')]"
      ]
     },
     "execution_count": 4,
     "metadata": {},
     "output_type": "execute_result"
    }
   ],
   "source": [
    "task2_2(3)"
   ]
  },
  {
   "cell_type": "code",
   "execution_count": 5,
   "id": "81ec15f5",
   "metadata": {},
   "outputs": [],
   "source": [
    "#Task2-3 function:\n",
    "def task2_3(z):\n",
    "    import pandas as pd\n",
    "    import psycopg2\n",
    "    #tweak the database parameters to match your specific postgres database\n",
    "    conn=psycopg2.connect(host='localhost',\n",
    "                          port='5432',\n",
    "                          user='postgres',\n",
    "                          password='mysecretpassword',\n",
    "                          database='postgres',\n",
    "                          #You may add the following line if you have schemas\n",
    "                          options=\"-c search_path=nfl\"\n",
    "                         )\n",
    "    cur=conn.cursor()\n",
    "    cur.execute('SELECT count(sofifa_id),club FROM \"FIFA\".players_20 GROUP BY club order by count(sofifa_id) DESC;')\n",
    "    result=[]\n",
    "    for row in cur:\n",
    "        result.append(row)\n",
    "        \n",
    "    #dataframe=pd.DataFrame(result[0:z], columns=['Number of Players','Club Name'])\n",
    "    \n",
    "    conn.commit()\n",
    "    cur.close()\n",
    "    conn.close()\n",
    "    return result[0:z]"
   ]
  },
  {
   "cell_type": "code",
   "execution_count": 6,
   "id": "7e410855",
   "metadata": {},
   "outputs": [
    {
     "data": {
      "text/plain": [
       "[(33, 'VfL Wolfsburg'),\n",
       " (33, 'Norwich City'),\n",
       " (33, 'AS Monaco'),\n",
       " (33, 'Crystal Palace')]"
      ]
     },
     "execution_count": 6,
     "metadata": {},
     "output_type": "execute_result"
    }
   ],
   "source": [
    "task2_3(4)"
   ]
  },
  {
   "cell_type": "code",
   "execution_count": null,
   "id": "50ccd718",
   "metadata": {},
   "outputs": [],
   "source": [
    "#Task 4 functions:\n",
    "\n",
    "def task2_4_1():\n",
    "    import pandas as pd\n",
    "    import psycopg2\n",
    "    #tweak the database parameters to match your specific postgres database\n",
    "    conn=psycopg2.connect(host='localhost',\n",
    "                          port='5432',\n",
    "                          user='postgres',\n",
    "                          password='mysecretpassword',\n",
    "                          database='postgres',\n",
    "                          #You may add the following line if you have schemas\n",
    "                          options=\"-c search_path=nfl\"\n",
    "                         )\n",
    "    cur=conn.cursor()\n",
    "    cur.execute('SELECT count(sofifa_id),nation_position FROM \"FIFA\".players_20 GROUP BY nation_position order by count(sofifa_id) DESC;')\n",
    "    result=[]\n",
    "    for row in cur:\n",
    "        result.append(row)\n",
    "        break\n",
    "        \n",
    "    #dataframe=pd.DataFrame(result, columns=['count','nation position'])\n",
    "    \n",
    "    conn.commit()\n",
    "    cur.close()\n",
    "    conn.close()\n",
    "    return result\n",
    "\n",
    "def task2_4_2():\n",
    "    import pandas as pd\n",
    "    import psycopg2\n",
    "    #tweak the database parameters to match your specific postgres database\n",
    "    conn=psycopg2.connect(host='localhost',\n",
    "                          port='5432',\n",
    "                          user='postgres',\n",
    "                          password='mysecretpassword',\n",
    "                          database='postgres',\n",
    "                          #You may add the following line if you have schemas\n",
    "                          options=\"-c search_path=nfl\"\n",
    "                         )\n",
    "    cur=conn.cursor()\n",
    "    cur.execute('SELECT count(sofifa_id),team_position FROM \"FIFA\".players_20 GROUP BY team_position order by count(sofifa_id) DESC;')\n",
    "    result=[]\n",
    "    for row in cur:\n",
    "        result.append(row)\n",
    "        break\n",
    "        \n",
    "    #dataframe=pd.DataFrame(result, columns=['count','nation position'])\n",
    "    \n",
    "    conn.commit()\n",
    "    cur.close()\n",
    "    conn.close()\n",
    "    return result"
   ]
  },
  {
   "cell_type": "code",
   "execution_count": null,
   "id": "cd99da12",
   "metadata": {},
   "outputs": [],
   "source": [
    "task2_4_1()\n",
    "task2_4_2()"
   ]
  },
  {
   "cell_type": "code",
   "execution_count": 7,
   "id": "8d91d16a",
   "metadata": {},
   "outputs": [],
   "source": [
    "def task2_5():\n",
    "    import pandas as pd\n",
    "    import psycopg2\n",
    "    #tweak the database parameters to match your specific postgres database\n",
    "    conn=psycopg2.connect(host='localhost',\n",
    "                          port='5432',\n",
    "                          user='postgres',\n",
    "                          password='mysecretpassword',\n",
    "                          database='postgres',\n",
    "                          #You may add the following line if you have schemas\n",
    "                          options=\"-c search_path=nfl\"\n",
    "                         )\n",
    "    cur=conn.cursor()\n",
    "    cur.execute('SELECT count(sofifa_id),nationality FROM \"FIFA\".players_20 GROUP BY nationality order by count(sofifa_id) DESC;')\n",
    "    result=[]\n",
    "    for row in cur:\n",
    "        result.append(row)\n",
    "        break\n",
    "        \n",
    "    #dataframe=pd.DataFrame(result, columns=['count','nationality'])\n",
    "    \n",
    "    conn.commit()\n",
    "    cur.close()\n",
    "    conn.close()\n",
    "    return result"
   ]
  },
  {
   "cell_type": "code",
   "execution_count": 8,
   "id": "6a06e5cd",
   "metadata": {},
   "outputs": [
    {
     "data": {
      "text/plain": [
       "[(1667, 'England')]"
      ]
     },
     "execution_count": 8,
     "metadata": {},
     "output_type": "execute_result"
    }
   ],
   "source": [
    "task2_5()"
   ]
  },
  {
   "cell_type": "code",
   "execution_count": null,
   "id": "f698dd96",
   "metadata": {},
   "outputs": [],
   "source": []
  }
 ],
 "metadata": {
  "kernelspec": {
   "display_name": "Python 3",
   "language": "python",
   "name": "python3"
  },
  "language_info": {
   "codemirror_mode": {
    "name": "ipython",
    "version": 3
   },
   "file_extension": ".py",
   "mimetype": "text/x-python",
   "name": "python",
   "nbconvert_exporter": "python",
   "pygments_lexer": "ipython3",
   "version": "3.8.8"
  }
 },
 "nbformat": 4,
 "nbformat_minor": 5
}
